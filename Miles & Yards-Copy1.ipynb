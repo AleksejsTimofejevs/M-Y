{
 "cells": [
  {
   "cell_type": "markdown",
   "metadata": {},
   "source": [
    "# Прогноз стоимости аренды M&Y (Электрификации 26)"
   ]
  },
  {
   "cell_type": "markdown",
   "metadata": {},
   "source": [
    "### Подключение библиотек и скриптов"
   ]
  },
  {
   "cell_type": "code",
   "execution_count": 35,
   "metadata": {},
   "outputs": [],
   "source": [
    "import numpy as np\n",
    "import pandas as pd\n",
    "import pickle\n",
    "\n",
    "from sklearn.model_selection import train_test_split\n",
    "from sklearn.preprocessing import StandardScaler\n",
    "from sklearn.linear_model import LinearRegression, Ridge, Lasso\n",
    "from sklearn.ensemble import RandomForestRegressor\n",
    "from sklearn.metrics import r2_score, make_scorer\n",
    "from sklearn.model_selection import KFold, GridSearchCV\n",
    "\n",
    "import matplotlib\n",
    "import matplotlib.pyplot as plt\n",
    "import seaborn as sns\n",
    "\n",
    "import warnings\n",
    "warnings.filterwarnings('ignore')\n",
    "\n",
    "matplotlib.rcParams.update({'font.size': 14})\n",
    "\n",
    "%matplotlib inline"
   ]
  },
  {
   "cell_type": "code",
   "execution_count": 36,
   "metadata": {},
   "outputs": [],
   "source": [
    "def show_dst(train_df, column):\n",
    "    plt.figure(figsize = (16, 8))\n",
    "\n",
    "    train_df[column].hist(bins=18)\n",
    "    plt.ylabel('Count')\n",
    "    plt.xlabel(column)\n",
    "\n",
    "    plt.title('Target distribution')\n",
    "    plt.show()\n",
    "    return None"
   ]
  },
  {
   "cell_type": "markdown",
   "metadata": {},
   "source": [
    "### Загрузка данных"
   ]
  },
  {
   "cell_type": "code",
   "execution_count": 37,
   "metadata": {},
   "outputs": [],
   "source": [
    "TRAIN_DATASET_PATH = 'Lubertsy.csv'"
   ]
  },
  {
   "cell_type": "code",
   "execution_count": 38,
   "metadata": {},
   "outputs": [],
   "source": [
    "df = pd.read_csv(TRAIN_DATASET_PATH, delimiter=';', decimal=',', index_col='ID')"
   ]
  },
  {
   "cell_type": "markdown",
   "metadata": {},
   "source": [
    "**Описание датасета**\n",
    "\n",
    "* **Id** - идентификационный номер объекта\n",
    "* **Type** - тип объекта\n",
    "* **Square** - площадь\n",
    "* **Time from metro auto** - время на машине до метро\n",
    "* **KM from MKAD** - расстояние до МКАДА\n",
    "* **Floor** - номер этажа объекта\n",
    "* **Total Floors** - количество этажей объекта\n",
    "* **Roofs** - высота потолков\n",
    "* **Parking** - наличие паркинга\n",
    "* **Entrance** - вход\n",
    "* **Price** - общая цена аренды\n",
    "* **Price/m** - цена за метр"
   ]
  },
  {
   "cell_type": "markdown",
   "metadata": {},
   "source": [
    "# Предобработка"
   ]
  },
  {
   "cell_type": "code",
   "execution_count": 39,
   "metadata": {},
   "outputs": [
    {
     "data": {
      "text/html": [
       "<div>\n",
       "<style scoped>\n",
       "    .dataframe tbody tr th:only-of-type {\n",
       "        vertical-align: middle;\n",
       "    }\n",
       "\n",
       "    .dataframe tbody tr th {\n",
       "        vertical-align: top;\n",
       "    }\n",
       "\n",
       "    .dataframe thead th {\n",
       "        text-align: right;\n",
       "    }\n",
       "</style>\n",
       "<table border=\"1\" class=\"dataframe\">\n",
       "  <thead>\n",
       "    <tr style=\"text-align: right;\">\n",
       "      <th></th>\n",
       "      <th>Type</th>\n",
       "      <th>Square</th>\n",
       "      <th>Time from metro auto</th>\n",
       "      <th>Metro</th>\n",
       "      <th>KM from MKAD</th>\n",
       "      <th>Building</th>\n",
       "      <th>Floor</th>\n",
       "      <th>Roofs</th>\n",
       "      <th>Parking</th>\n",
       "      <th>Entrance</th>\n",
       "      <th>Price</th>\n",
       "      <th>Link</th>\n",
       "      <th>Price/m</th>\n",
       "      <th>Total Floors</th>\n",
       "    </tr>\n",
       "    <tr>\n",
       "      <th>ID</th>\n",
       "      <th></th>\n",
       "      <th></th>\n",
       "      <th></th>\n",
       "      <th></th>\n",
       "      <th></th>\n",
       "      <th></th>\n",
       "      <th></th>\n",
       "      <th></th>\n",
       "      <th></th>\n",
       "      <th></th>\n",
       "      <th></th>\n",
       "      <th></th>\n",
       "      <th></th>\n",
       "      <th></th>\n",
       "    </tr>\n",
       "  </thead>\n",
       "  <tbody>\n",
       "    <tr>\n",
       "      <td>1</td>\n",
       "      <td>Storehouse</td>\n",
       "      <td>28.00</td>\n",
       "      <td>NaN</td>\n",
       "      <td>NaN</td>\n",
       "      <td>6.0</td>\n",
       "      <td>Free</td>\n",
       "      <td>1</td>\n",
       "      <td>2.70</td>\n",
       "      <td>Yes</td>\n",
       "      <td>NaN</td>\n",
       "      <td>10100.0</td>\n",
       "      <td>https://www .cian .ru/rent/commercial/226196743</td>\n",
       "      <td>360.71</td>\n",
       "      <td>1</td>\n",
       "    </tr>\n",
       "    <tr>\n",
       "      <td>2</td>\n",
       "      <td>Storehouse</td>\n",
       "      <td>28.00</td>\n",
       "      <td>4.0</td>\n",
       "      <td>Kotelniki</td>\n",
       "      <td>6.0</td>\n",
       "      <td>NaN</td>\n",
       "      <td>1</td>\n",
       "      <td>NaN</td>\n",
       "      <td>Yes</td>\n",
       "      <td>NaN</td>\n",
       "      <td>12012.0</td>\n",
       "      <td>https://www .cian .ru/rent/commercial/226322956</td>\n",
       "      <td>429.00</td>\n",
       "      <td>1</td>\n",
       "    </tr>\n",
       "    <tr>\n",
       "      <td>3</td>\n",
       "      <td>Office</td>\n",
       "      <td>19.75</td>\n",
       "      <td>4.0</td>\n",
       "      <td>Kotelniki</td>\n",
       "      <td>5.0</td>\n",
       "      <td>Administrative</td>\n",
       "      <td>3</td>\n",
       "      <td>NaN</td>\n",
       "      <td>NaN</td>\n",
       "      <td>NaN</td>\n",
       "      <td>22713.0</td>\n",
       "      <td>https://www .cian .ru/rent/commercial/234449801</td>\n",
       "      <td>1150.03</td>\n",
       "      <td>4</td>\n",
       "    </tr>\n",
       "    <tr>\n",
       "      <td>4</td>\n",
       "      <td>Free</td>\n",
       "      <td>54.00</td>\n",
       "      <td>6.0</td>\n",
       "      <td>Nekrasovka</td>\n",
       "      <td>NaN</td>\n",
       "      <td>Residential</td>\n",
       "      <td>1</td>\n",
       "      <td>3.25</td>\n",
       "      <td>NaN</td>\n",
       "      <td>Street</td>\n",
       "      <td>75000.0</td>\n",
       "      <td>https://www .cian .ru/rent/commercial/236932064</td>\n",
       "      <td>1388.89</td>\n",
       "      <td>17</td>\n",
       "    </tr>\n",
       "    <tr>\n",
       "      <td>5</td>\n",
       "      <td>Free</td>\n",
       "      <td>175.80</td>\n",
       "      <td>5.0</td>\n",
       "      <td>Lukhmanovskaya</td>\n",
       "      <td>NaN</td>\n",
       "      <td>Residential</td>\n",
       "      <td>1</td>\n",
       "      <td>NaN</td>\n",
       "      <td>NaN</td>\n",
       "      <td>Street</td>\n",
       "      <td>316440.0</td>\n",
       "      <td>https://www .cian .ru/rent/commercial/233699528</td>\n",
       "      <td>1800.00</td>\n",
       "      <td>25</td>\n",
       "    </tr>\n",
       "    <tr>\n",
       "      <td>6</td>\n",
       "      <td>StreetRetail</td>\n",
       "      <td>80.00</td>\n",
       "      <td>4.0</td>\n",
       "      <td>Lukhmanovskaya</td>\n",
       "      <td>NaN</td>\n",
       "      <td>Administrative</td>\n",
       "      <td>1</td>\n",
       "      <td>2.80</td>\n",
       "      <td>NaN</td>\n",
       "      <td>Street</td>\n",
       "      <td>353334.0</td>\n",
       "      <td>https://www .cian .ru/rent/commercial/230961390</td>\n",
       "      <td>4416.68</td>\n",
       "      <td>1</td>\n",
       "    </tr>\n",
       "    <tr>\n",
       "      <td>7</td>\n",
       "      <td>Office</td>\n",
       "      <td>58.00</td>\n",
       "      <td>NaN</td>\n",
       "      <td>NaN</td>\n",
       "      <td>5.0</td>\n",
       "      <td>Business</td>\n",
       "      <td>4</td>\n",
       "      <td>NaN</td>\n",
       "      <td>Yes</td>\n",
       "      <td>NaN</td>\n",
       "      <td>63800.0</td>\n",
       "      <td>https://www .cian .ru/rent/commercial/227973692</td>\n",
       "      <td>1100.00</td>\n",
       "      <td>5</td>\n",
       "    </tr>\n",
       "    <tr>\n",
       "      <td>8</td>\n",
       "      <td>Free</td>\n",
       "      <td>131.00</td>\n",
       "      <td>3.0</td>\n",
       "      <td>Nekrasovka</td>\n",
       "      <td>NaN</td>\n",
       "      <td>Residential</td>\n",
       "      <td>1</td>\n",
       "      <td>NaN</td>\n",
       "      <td>NaN</td>\n",
       "      <td>Street</td>\n",
       "      <td>140000.0</td>\n",
       "      <td>https://www .cian .ru/rent/commercial/234463561</td>\n",
       "      <td>1068.70</td>\n",
       "      <td>17</td>\n",
       "    </tr>\n",
       "    <tr>\n",
       "      <td>9</td>\n",
       "      <td>StreetRetail</td>\n",
       "      <td>1261.37</td>\n",
       "      <td>3.0</td>\n",
       "      <td>Lermontovskyprospect</td>\n",
       "      <td>5.0</td>\n",
       "      <td>Business</td>\n",
       "      <td>1</td>\n",
       "      <td>5.00</td>\n",
       "      <td>NaN</td>\n",
       "      <td>Street</td>\n",
       "      <td>1702850.0</td>\n",
       "      <td>https://www .cian .ru/rent/commercial/228009503</td>\n",
       "      <td>1350.00</td>\n",
       "      <td>5</td>\n",
       "    </tr>\n",
       "    <tr>\n",
       "      <td>10</td>\n",
       "      <td>Office</td>\n",
       "      <td>14.00</td>\n",
       "      <td>4.0</td>\n",
       "      <td>Zhulebino</td>\n",
       "      <td>6.0</td>\n",
       "      <td>NaN</td>\n",
       "      <td>3</td>\n",
       "      <td>4.00</td>\n",
       "      <td>Yes</td>\n",
       "      <td>NaN</td>\n",
       "      <td>11200.0</td>\n",
       "      <td>https://www .cian .ru/rent/commercial/14082902</td>\n",
       "      <td>800.00</td>\n",
       "      <td>3</td>\n",
       "    </tr>\n",
       "  </tbody>\n",
       "</table>\n",
       "</div>"
      ],
      "text/plain": [
       "            Type   Square  Time from metro auto                 Metro  \\\n",
       "ID                                                                      \n",
       "1     Storehouse    28.00                   NaN                   NaN   \n",
       "2     Storehouse    28.00                   4.0             Kotelniki   \n",
       "3         Office    19.75                   4.0             Kotelniki   \n",
       "4           Free    54.00                   6.0            Nekrasovka   \n",
       "5           Free   175.80                   5.0        Lukhmanovskaya   \n",
       "6   StreetRetail    80.00                   4.0        Lukhmanovskaya   \n",
       "7         Office    58.00                   NaN                   NaN   \n",
       "8           Free   131.00                   3.0            Nekrasovka   \n",
       "9   StreetRetail  1261.37                   3.0  Lermontovskyprospect   \n",
       "10        Office    14.00                   4.0             Zhulebino   \n",
       "\n",
       "    KM from MKAD        Building  Floor  Roofs Parking Entrance      Price  \\\n",
       "ID                                                                           \n",
       "1            6.0            Free      1   2.70     Yes      NaN    10100.0   \n",
       "2            6.0             NaN      1    NaN     Yes      NaN    12012.0   \n",
       "3            5.0  Administrative      3    NaN     NaN      NaN    22713.0   \n",
       "4            NaN     Residential      1   3.25     NaN   Street    75000.0   \n",
       "5            NaN     Residential      1    NaN     NaN   Street   316440.0   \n",
       "6            NaN  Administrative      1   2.80     NaN   Street   353334.0   \n",
       "7            5.0        Business      4    NaN     Yes      NaN    63800.0   \n",
       "8            NaN     Residential      1    NaN     NaN   Street   140000.0   \n",
       "9            5.0        Business      1   5.00     NaN   Street  1702850.0   \n",
       "10           6.0             NaN      3   4.00     Yes      NaN    11200.0   \n",
       "\n",
       "                                               Link  Price/m  Total Floors  \n",
       "ID                                                                          \n",
       "1   https://www .cian .ru/rent/commercial/226196743   360.71             1  \n",
       "2   https://www .cian .ru/rent/commercial/226322956   429.00             1  \n",
       "3   https://www .cian .ru/rent/commercial/234449801  1150.03             4  \n",
       "4   https://www .cian .ru/rent/commercial/236932064  1388.89            17  \n",
       "5   https://www .cian .ru/rent/commercial/233699528  1800.00            25  \n",
       "6   https://www .cian .ru/rent/commercial/230961390  4416.68             1  \n",
       "7   https://www .cian .ru/rent/commercial/227973692  1100.00             5  \n",
       "8   https://www .cian .ru/rent/commercial/234463561  1068.70            17  \n",
       "9   https://www .cian .ru/rent/commercial/228009503  1350.00             5  \n",
       "10   https://www .cian .ru/rent/commercial/14082902   800.00             3  "
      ]
     },
     "execution_count": 39,
     "metadata": {},
     "output_type": "execute_result"
    }
   ],
   "source": [
    "df.head(10)"
   ]
  },
  {
   "cell_type": "code",
   "execution_count": 40,
   "metadata": {},
   "outputs": [],
   "source": [
    "df = df.drop('Link', axis = 'columns')"
   ]
  },
  {
   "cell_type": "code",
   "execution_count": 41,
   "metadata": {},
   "outputs": [
    {
     "name": "stdout",
     "output_type": "stream",
     "text": [
      "<class 'pandas.core.frame.DataFrame'>\n",
      "Int64Index: 205 entries, 1 to 205\n",
      "Data columns (total 13 columns):\n",
      "Type                    205 non-null object\n",
      "Square                  205 non-null float64\n",
      "Time from metro auto    148 non-null float64\n",
      "Metro                   145 non-null object\n",
      "KM from MKAD            164 non-null float64\n",
      "Building                144 non-null object\n",
      "Floor                   205 non-null int64\n",
      "Roofs                   146 non-null float64\n",
      "Parking                 38 non-null object\n",
      "Entrance                124 non-null object\n",
      "Price                   200 non-null float64\n",
      "Price/m                 200 non-null float64\n",
      "Total Floors            205 non-null int64\n",
      "dtypes: float64(6), int64(2), object(5)\n",
      "memory usage: 22.4+ KB\n"
     ]
    }
   ],
   "source": [
    "df.info()"
   ]
  },
  {
   "cell_type": "markdown",
   "metadata": {},
   "source": [
    "### Заполнение пропусков"
   ]
  },
  {
   "cell_type": "code",
   "execution_count": 42,
   "metadata": {},
   "outputs": [],
   "source": [
    "values = {'Parking': 'No', 'Entrance': 'Street', 'Roofs': 3, 'Time from metro auto': 5, 'KM from MKAD': 5, 'Metro': 'Other', 'Building': 'Other'}\n",
    "df.fillna(value=values, inplace=True)"
   ]
  },
  {
   "cell_type": "code",
   "execution_count": 43,
   "metadata": {},
   "outputs": [
    {
     "data": {
      "text/html": [
       "<div>\n",
       "<style scoped>\n",
       "    .dataframe tbody tr th:only-of-type {\n",
       "        vertical-align: middle;\n",
       "    }\n",
       "\n",
       "    .dataframe tbody tr th {\n",
       "        vertical-align: top;\n",
       "    }\n",
       "\n",
       "    .dataframe thead th {\n",
       "        text-align: right;\n",
       "    }\n",
       "</style>\n",
       "<table border=\"1\" class=\"dataframe\">\n",
       "  <thead>\n",
       "    <tr style=\"text-align: right;\">\n",
       "      <th></th>\n",
       "      <th>Square</th>\n",
       "      <th>Time from metro auto</th>\n",
       "      <th>KM from MKAD</th>\n",
       "      <th>Floor</th>\n",
       "      <th>Roofs</th>\n",
       "      <th>Price</th>\n",
       "      <th>Price/m</th>\n",
       "      <th>Total Floors</th>\n",
       "    </tr>\n",
       "  </thead>\n",
       "  <tbody>\n",
       "    <tr>\n",
       "      <td>count</td>\n",
       "      <td>205.000000</td>\n",
       "      <td>205.000000</td>\n",
       "      <td>205.000000</td>\n",
       "      <td>205.000000</td>\n",
       "      <td>205.000000</td>\n",
       "      <td>2.000000e+02</td>\n",
       "      <td>200.000000</td>\n",
       "      <td>205.000000</td>\n",
       "    </tr>\n",
       "    <tr>\n",
       "      <td>mean</td>\n",
       "      <td>180.946220</td>\n",
       "      <td>6.185366</td>\n",
       "      <td>5.639024</td>\n",
       "      <td>1.409756</td>\n",
       "      <td>3.662293</td>\n",
       "      <td>1.219671e+05</td>\n",
       "      <td>1061.867500</td>\n",
       "      <td>6.858537</td>\n",
       "    </tr>\n",
       "    <tr>\n",
       "      <td>std</td>\n",
       "      <td>337.574886</td>\n",
       "      <td>3.952510</td>\n",
       "      <td>1.453171</td>\n",
       "      <td>1.533260</td>\n",
       "      <td>1.696266</td>\n",
       "      <td>2.191086e+05</td>\n",
       "      <td>1037.686796</td>\n",
       "      <td>7.877399</td>\n",
       "    </tr>\n",
       "    <tr>\n",
       "      <td>min</td>\n",
       "      <td>5.000000</td>\n",
       "      <td>2.000000</td>\n",
       "      <td>1.000000</td>\n",
       "      <td>-1.000000</td>\n",
       "      <td>0.020000</td>\n",
       "      <td>6.800000e+03</td>\n",
       "      <td>177.780000</td>\n",
       "      <td>1.000000</td>\n",
       "    </tr>\n",
       "    <tr>\n",
       "      <td>25%</td>\n",
       "      <td>40.000000</td>\n",
       "      <td>4.000000</td>\n",
       "      <td>5.000000</td>\n",
       "      <td>1.000000</td>\n",
       "      <td>3.000000</td>\n",
       "      <td>3.225000e+04</td>\n",
       "      <td>420.000000</td>\n",
       "      <td>2.000000</td>\n",
       "    </tr>\n",
       "    <tr>\n",
       "      <td>50%</td>\n",
       "      <td>82.000000</td>\n",
       "      <td>5.000000</td>\n",
       "      <td>5.000000</td>\n",
       "      <td>1.000000</td>\n",
       "      <td>3.000000</td>\n",
       "      <td>6.700450e+04</td>\n",
       "      <td>800.000000</td>\n",
       "      <td>3.000000</td>\n",
       "    </tr>\n",
       "    <tr>\n",
       "      <td>75%</td>\n",
       "      <td>175.800000</td>\n",
       "      <td>7.000000</td>\n",
       "      <td>7.000000</td>\n",
       "      <td>2.000000</td>\n",
       "      <td>4.000000</td>\n",
       "      <td>1.118250e+05</td>\n",
       "      <td>1254.750000</td>\n",
       "      <td>6.000000</td>\n",
       "    </tr>\n",
       "    <tr>\n",
       "      <td>max</td>\n",
       "      <td>3000.000000</td>\n",
       "      <td>20.000000</td>\n",
       "      <td>9.000000</td>\n",
       "      <td>15.000000</td>\n",
       "      <td>13.000000</td>\n",
       "      <td>1.702850e+06</td>\n",
       "      <td>6805.050000</td>\n",
       "      <td>25.000000</td>\n",
       "    </tr>\n",
       "  </tbody>\n",
       "</table>\n",
       "</div>"
      ],
      "text/plain": [
       "            Square  Time from metro auto  KM from MKAD       Floor  \\\n",
       "count   205.000000            205.000000    205.000000  205.000000   \n",
       "mean    180.946220              6.185366      5.639024    1.409756   \n",
       "std     337.574886              3.952510      1.453171    1.533260   \n",
       "min       5.000000              2.000000      1.000000   -1.000000   \n",
       "25%      40.000000              4.000000      5.000000    1.000000   \n",
       "50%      82.000000              5.000000      5.000000    1.000000   \n",
       "75%     175.800000              7.000000      7.000000    2.000000   \n",
       "max    3000.000000             20.000000      9.000000   15.000000   \n",
       "\n",
       "            Roofs         Price      Price/m  Total Floors  \n",
       "count  205.000000  2.000000e+02   200.000000    205.000000  \n",
       "mean     3.662293  1.219671e+05  1061.867500      6.858537  \n",
       "std      1.696266  2.191086e+05  1037.686796      7.877399  \n",
       "min      0.020000  6.800000e+03   177.780000      1.000000  \n",
       "25%      3.000000  3.225000e+04   420.000000      2.000000  \n",
       "50%      3.000000  6.700450e+04   800.000000      3.000000  \n",
       "75%      4.000000  1.118250e+05  1254.750000      6.000000  \n",
       "max     13.000000  1.702850e+06  6805.050000     25.000000  "
      ]
     },
     "execution_count": 43,
     "metadata": {},
     "output_type": "execute_result"
    }
   ],
   "source": [
    "df_num_features = df.select_dtypes(include=('float64','int64'))\n",
    "df_num_features.dtypes\n",
    "df_num_features.describe()"
   ]
  },
  {
   "cell_type": "code",
   "execution_count": 44,
   "metadata": {},
   "outputs": [],
   "source": [
    "df = pd.get_dummies(df)"
   ]
  },
  {
   "cell_type": "code",
   "execution_count": 45,
   "metadata": {},
   "outputs": [
    {
     "name": "stdout",
     "output_type": "stream",
     "text": [
      "<class 'pandas.core.frame.DataFrame'>\n",
      "Int64Index: 205 entries, 1 to 205\n",
      "Data columns (total 33 columns):\n",
      "Square                        205 non-null float64\n",
      "Time from metro auto          205 non-null float64\n",
      "KM from MKAD                  205 non-null float64\n",
      "Floor                         205 non-null int64\n",
      "Roofs                         205 non-null float64\n",
      "Price                         200 non-null float64\n",
      "Price/m                       200 non-null float64\n",
      "Total Floors                  205 non-null int64\n",
      "Type_Free                     205 non-null uint8\n",
      "Type_Mall                     205 non-null uint8\n",
      "Type_Manufacture              205 non-null uint8\n",
      "Type_Office                   205 non-null uint8\n",
      "Type_Storehouse               205 non-null uint8\n",
      "Type_StreetRetail             205 non-null uint8\n",
      "Metro_Kotelniki               205 non-null uint8\n",
      "Metro_Lermontovskyprospect    205 non-null uint8\n",
      "Metro_Lukhmanovskaya          205 non-null uint8\n",
      "Metro_Nekrasovka              205 non-null uint8\n",
      "Metro_Other                   205 non-null uint8\n",
      "Metro_Vykhino                 205 non-null uint8\n",
      "Metro_Zhulebino               205 non-null uint8\n",
      "Building_Administrative       205 non-null uint8\n",
      "Building_Business             205 non-null uint8\n",
      "Building_Free                 205 non-null uint8\n",
      "Building_Mall                 205 non-null uint8\n",
      "Building_Manufacture          205 non-null uint8\n",
      "Building_Other                205 non-null uint8\n",
      "Building_Residential          205 non-null uint8\n",
      "Building_Storehouse           205 non-null uint8\n",
      "Parking_No                    205 non-null uint8\n",
      "Parking_Yes                   205 non-null uint8\n",
      "Entrance_Street               205 non-null uint8\n",
      "Entrance_Yard                 205 non-null uint8\n",
      "dtypes: float64(6), int64(2), uint8(25)\n",
      "memory usage: 19.4 KB\n"
     ]
    }
   ],
   "source": [
    "df.info()"
   ]
  },
  {
   "cell_type": "markdown",
   "metadata": {},
   "source": [
    "### Отделение прогнозируемого объекта от остальных объявлений"
   ]
  },
  {
   "cell_type": "code",
   "execution_count": 46,
   "metadata": {},
   "outputs": [],
   "source": [
    "Miles = df.loc[201:].copy()"
   ]
  },
  {
   "cell_type": "code",
   "execution_count": 47,
   "metadata": {},
   "outputs": [],
   "source": [
    "df = df.drop(201, 0)\n",
    "df = df.drop(202, 0)\n",
    "df = df.drop(203, 0)"
   ]
  },
  {
   "cell_type": "code",
   "execution_count": 48,
   "metadata": {},
   "outputs": [],
   "source": [
    "Miles = Miles.drop('Price', axis = 'columns')\n",
    "Miles = Miles.drop('Price/m', axis = 'columns')"
   ]
  },
  {
   "cell_type": "markdown",
   "metadata": {},
   "source": [
    "### Удаление выбросов"
   ]
  },
  {
   "cell_type": "code",
   "execution_count": 49,
   "metadata": {},
   "outputs": [
    {
     "data": {
      "image/png": "[encoded data removed]",
      "text/plain": [
       "<Figure size 1152x576 with 1 Axes>"
      ]
     },
     "metadata": {
      "needs_background": "light"
     },
     "output_type": "display_data"
    }
   ],
   "source": [
    "show_dst(df, 'Price/m')"
   ]
  },
  {
   "cell_type": "code",
   "execution_count": 50,
   "metadata": {},
   "outputs": [],
   "source": [
    "df = df[(df['Price/m'] < 3000)]"
   ]
  },
  {
   "cell_type": "markdown",
   "metadata": {},
   "source": [
    "### Обучение модели"
   ]
  },
  {
   "cell_type": "code",
   "execution_count": 51,
   "metadata": {},
   "outputs": [],
   "source": [
    "df = df.drop('Price', axis = 'columns')"
   ]
  },
  {
   "cell_type": "code",
   "execution_count": 52,
   "metadata": {},
   "outputs": [],
   "source": [
    "features = df.drop('Price/m', axis = 'columns').columns.tolist()\n",
    "target = ['Price/m']"
   ]
  },
  {
   "cell_type": "code",
   "execution_count": 53,
   "metadata": {},
   "outputs": [],
   "source": [
    "X_train, X_valid,y_train, y_valid = train_test_split(df[features], df[target], test_size = 0.2, random_state = 20)"
   ]
  },
  {
   "cell_type": "code",
   "execution_count": 54,
   "metadata": {},
   "outputs": [],
   "source": [
    "def R2(y_true,y_pred):    \n",
    "     r2 = r2_score(y_true, y_pred)\n",
    "     print('R2: %2.3f' % r2)\n",
    "     return r2\n",
    "    \n",
    "def two_score(y_true,y_pred):\n",
    "    score = R2(y_true,y_pred)\n",
    "    return score\n",
    "\n",
    "def two_scorer():\n",
    "    return make_scorer(two_score, greater_is_better=True)\n",
    "\n",
    "\n",
    "parameters = {\n",
    "    'n_estimators': [200, 250, 350],\n",
    "    'max_depth': np.arange(10, 18),\n",
    "}\n",
    "\n",
    "model = RandomForestRegressor()\n",
    "clf = GridSearchCV(model, parameters, scoring=two_scorer())"
   ]
  },
  {
   "cell_type": "code",
   "execution_count": 55,
   "metadata": {},
   "outputs": [
    {
     "name": "stdout",
     "output_type": "stream",
     "text": [
      "R2: 0.072\n",
      "R2: 0.236\n",
      "R2: 0.285\n",
      "R2: 0.124\n",
      "R2: 0.268\n",
      "R2: 0.308\n",
      "R2: 0.105\n",
      "R2: 0.269\n",
      "R2: 0.311\n",
      "R2: 0.130\n",
      "R2: 0.259\n",
      "R2: 0.282\n",
      "R2: 0.116\n",
      "R2: 0.256\n",
      "R2: 0.316\n",
      "R2: 0.127\n",
      "R2: 0.265\n",
      "R2: 0.321\n",
      "R2: 0.128\n",
      "R2: 0.266\n",
      "R2: 0.298\n",
      "R2: 0.115\n",
      "R2: 0.277\n",
      "R2: 0.313\n",
      "R2: 0.116\n",
      "R2: 0.265\n",
      "R2: 0.283\n",
      "R2: 0.118\n",
      "R2: 0.305\n",
      "R2: 0.309\n",
      "R2: 0.123\n",
      "R2: 0.239\n",
      "R2: 0.311\n",
      "R2: 0.080\n",
      "R2: 0.223\n",
      "R2: 0.309\n",
      "R2: 0.129\n",
      "R2: 0.266\n",
      "R2: 0.302\n",
      "R2: 0.101\n",
      "R2: 0.260\n",
      "R2: 0.309\n",
      "R2: 0.089\n",
      "R2: 0.234\n",
      "R2: 0.307\n",
      "R2: 0.095\n",
      "R2: 0.265\n",
      "R2: 0.310\n",
      "R2: 0.100\n",
      "R2: 0.270\n",
      "R2: 0.301\n",
      "R2: 0.122\n",
      "R2: 0.249\n",
      "R2: 0.309\n",
      "R2: 0.074\n",
      "R2: 0.287\n",
      "R2: 0.322\n",
      "R2: 0.132\n",
      "R2: 0.234\n",
      "R2: 0.295\n",
      "R2: 0.095\n",
      "R2: 0.275\n",
      "R2: 0.307\n",
      "R2: 0.138\n",
      "R2: 0.260\n",
      "R2: 0.295\n",
      "R2: 0.112\n",
      "R2: 0.290\n",
      "R2: 0.289\n",
      "R2: 0.090\n",
      "R2: 0.265\n",
      "R2: 0.289\n"
     ]
    },
    {
     "data": {
      "text/plain": [
       "GridSearchCV(cv='warn', error_score='raise-deprecating',\n",
       "             estimator=RandomForestRegressor(bootstrap=True, criterion='mse',\n",
       "                                             max_depth=None,\n",
       "                                             max_features='auto',\n",
       "                                             max_leaf_nodes=None,\n",
       "                                             min_impurity_decrease=0.0,\n",
       "                                             min_impurity_split=None,\n",
       "                                             min_samples_leaf=1,\n",
       "                                             min_samples_split=2,\n",
       "                                             min_weight_fraction_leaf=0.0,\n",
       "                                             n_estimators='warn', n_jobs=None,\n",
       "                                             oob_score=False, random_state=None,\n",
       "                                             verbose=0, warm_start=False),\n",
       "             iid='warn', n_jobs=None,\n",
       "             param_grid={'max_depth': array([10, 11, 12, 13, 14, 15, 16, 17]),\n",
       "                         'n_estimators': [200, 250, 350]},\n",
       "             pre_dispatch='2*n_jobs', refit=True, return_train_score=False,\n",
       "             scoring=make_scorer(two_score), verbose=0)"
      ]
     },
     "execution_count": 55,
     "metadata": {},
     "output_type": "execute_result"
    }
   ],
   "source": [
    "clf.fit(X_train, y_train)"
   ]
  },
  {
   "cell_type": "code",
   "execution_count": 56,
   "metadata": {},
   "outputs": [
    {
     "data": {
      "text/plain": [
       "Index(['mean_fit_time', 'std_fit_time', 'mean_score_time', 'std_score_time',\n",
       "       'param_max_depth', 'param_n_estimators', 'params', 'split0_test_score',\n",
       "       'split1_test_score', 'split2_test_score', 'mean_test_score',\n",
       "       'std_test_score', 'rank_test_score'],\n",
       "      dtype='object')"
      ]
     },
     "execution_count": 56,
     "metadata": {},
     "output_type": "execute_result"
    }
   ],
   "source": [
    "cv_results = pd.DataFrame(clf.cv_results_)\n",
    "\n",
    "cv_results.columns"
   ]
  },
  {
   "cell_type": "code",
   "execution_count": 57,
   "metadata": {},
   "outputs": [
    {
     "data": {
      "text/html": [
       "<div>\n",
       "<style scoped>\n",
       "    .dataframe tbody tr th:only-of-type {\n",
       "        vertical-align: middle;\n",
       "    }\n",
       "\n",
       "    .dataframe tbody tr th {\n",
       "        vertical-align: top;\n",
       "    }\n",
       "\n",
       "    .dataframe thead th {\n",
       "        text-align: right;\n",
       "    }\n",
       "</style>\n",
       "<table border=\"1\" class=\"dataframe\">\n",
       "  <thead>\n",
       "    <tr style=\"text-align: right;\">\n",
       "      <th></th>\n",
       "      <th>param_max_depth</th>\n",
       "      <th>param_n_estimators</th>\n",
       "      <th>mean_test_score</th>\n",
       "    </tr>\n",
       "  </thead>\n",
       "  <tbody>\n",
       "    <tr>\n",
       "      <td>9</td>\n",
       "      <td>13</td>\n",
       "      <td>200</td>\n",
       "      <td>0.243913</td>\n",
       "    </tr>\n",
       "    <tr>\n",
       "      <td>5</td>\n",
       "      <td>11</td>\n",
       "      <td>350</td>\n",
       "      <td>0.237395</td>\n",
       "    </tr>\n",
       "    <tr>\n",
       "      <td>7</td>\n",
       "      <td>12</td>\n",
       "      <td>250</td>\n",
       "      <td>0.234543</td>\n",
       "    </tr>\n",
       "    <tr>\n",
       "      <td>1</td>\n",
       "      <td>10</td>\n",
       "      <td>250</td>\n",
       "      <td>0.232862</td>\n",
       "    </tr>\n",
       "    <tr>\n",
       "      <td>12</td>\n",
       "      <td>14</td>\n",
       "      <td>200</td>\n",
       "      <td>0.231808</td>\n",
       "    </tr>\n",
       "    <tr>\n",
       "      <td>21</td>\n",
       "      <td>17</td>\n",
       "      <td>200</td>\n",
       "      <td>0.230713</td>\n",
       "    </tr>\n",
       "    <tr>\n",
       "      <td>6</td>\n",
       "      <td>12</td>\n",
       "      <td>200</td>\n",
       "      <td>0.230378</td>\n",
       "    </tr>\n",
       "    <tr>\n",
       "      <td>22</td>\n",
       "      <td>17</td>\n",
       "      <td>250</td>\n",
       "      <td>0.230088</td>\n",
       "    </tr>\n",
       "    <tr>\n",
       "      <td>4</td>\n",
       "      <td>11</td>\n",
       "      <td>250</td>\n",
       "      <td>0.228943</td>\n",
       "    </tr>\n",
       "    <tr>\n",
       "      <td>2</td>\n",
       "      <td>10</td>\n",
       "      <td>350</td>\n",
       "      <td>0.227862</td>\n",
       "    </tr>\n",
       "  </tbody>\n",
       "</table>\n",
       "</div>"
      ],
      "text/plain": [
       "   param_max_depth param_n_estimators  mean_test_score\n",
       "9               13                200         0.243913\n",
       "5               11                350         0.237395\n",
       "7               12                250         0.234543\n",
       "1               10                250         0.232862\n",
       "12              14                200         0.231808\n",
       "21              17                200         0.230713\n",
       "6               12                200         0.230378\n",
       "22              17                250         0.230088\n",
       "4               11                250         0.228943\n",
       "2               10                350         0.227862"
      ]
     },
     "execution_count": 57,
     "metadata": {},
     "output_type": "execute_result"
    }
   ],
   "source": [
    "param_columns = [\n",
    "    column\n",
    "    for column in cv_results.columns\n",
    "    if column.startswith('param_')\n",
    "]\n",
    "\n",
    "score_columns = ['mean_test_score']\n",
    "\n",
    "cv_results = (cv_results[param_columns + score_columns]\n",
    "              .sort_values(by=score_columns, ascending=False))\n",
    "\n",
    "cv_results.head(10)"
   ]
  },
  {
   "cell_type": "code",
   "execution_count": 58,
   "metadata": {},
   "outputs": [
    {
     "data": {
      "text/plain": [
       "{'max_depth': 13, 'n_estimators': 200}"
      ]
     },
     "execution_count": 58,
     "metadata": {},
     "output_type": "execute_result"
    }
   ],
   "source": [
    "clf.best_params_"
   ]
  },
  {
   "cell_type": "code",
   "execution_count": 59,
   "metadata": {},
   "outputs": [],
   "source": [
    "best_model_params = clf.best_params_"
   ]
  },
  {
   "cell_type": "code",
   "execution_count": 60,
   "metadata": {},
   "outputs": [],
   "source": [
    "best_model = RandomForestRegressor(max_depth=best_model_params['max_depth'], n_estimators=best_model_params['n_estimators'])"
   ]
  },
  {
   "cell_type": "code",
   "execution_count": 61,
   "metadata": {},
   "outputs": [
    {
     "data": {
      "text/plain": [
       "RandomForestRegressor(bootstrap=True, criterion='mse', max_depth=13,\n",
       "                      max_features='auto', max_leaf_nodes=None,\n",
       "                      min_impurity_decrease=0.0, min_impurity_split=None,\n",
       "                      min_samples_leaf=1, min_samples_split=2,\n",
       "                      min_weight_fraction_leaf=0.0, n_estimators=200,\n",
       "                      n_jobs=None, oob_score=False, random_state=None,\n",
       "                      verbose=0, warm_start=False)"
      ]
     },
     "execution_count": 61,
     "metadata": {},
     "output_type": "execute_result"
    }
   ],
   "source": [
    "best_model.fit(X_train, y_train)"
   ]
  },
  {
   "cell_type": "code",
   "execution_count": 62,
   "metadata": {},
   "outputs": [
    {
     "data": {
      "text/plain": [
       "0.4940259299614258"
      ]
     },
     "execution_count": 62,
     "metadata": {},
     "output_type": "execute_result"
    }
   ],
   "source": [
    "y_pred = best_model.predict(X_valid)\n",
    "\n",
    "r2_score(y_valid, y_pred)"
   ]
  },
  {
   "cell_type": "markdown",
   "metadata": {},
   "source": [
    "### Тест на всех данных"
   ]
  },
  {
   "cell_type": "code",
   "execution_count": 63,
   "metadata": {},
   "outputs": [],
   "source": [
    "all_pred = best_model.predict(df[features])"
   ]
  },
  {
   "cell_type": "code",
   "execution_count": 64,
   "metadata": {},
   "outputs": [
    {
     "data": {
      "text/plain": [
       "0.6949686222617042"
      ]
     },
     "execution_count": 64,
     "metadata": {},
     "output_type": "execute_result"
    }
   ],
   "source": [
    "r2_score(all_pred, df[target])"
   ]
  },
  {
   "cell_type": "markdown",
   "metadata": {},
   "source": [
    "### Тест на вводных"
   ]
  },
  {
   "cell_type": "code",
   "execution_count": 65,
   "metadata": {},
   "outputs": [],
   "source": [
    "prediction = best_model.predict(Miles)"
   ]
  },
  {
   "cell_type": "code",
   "execution_count": 73,
   "metadata": {},
   "outputs": [
    {
     "name": "stdout",
     "output_type": "stream",
     "text": [
      "Цена за метр (Электрификации 26 - Склад): 4464.0 руб.\n",
      "Цена за метр (Электрификации 26 - Офис): 5748.0 руб.\n",
      "Цена за метр (Электрификации 26 - Производство): 5437.0 руб.\n",
      "Цена за метр (Электрификации 26 - Торговля): 10500.0 руб.\n",
      "Цена за метр (Электрификации 26 - Свободное): 8860.0 руб.\n"
     ]
    }
   ],
   "source": [
    "print('Цена за метр (Электрификации 26 - Склад):', round(prediction[0]) * 12, 'руб.')\n",
    "print('Цена за метр (Электрификации 26 - Офис):', round(prediction[1]) * 12, 'руб.')\n",
    "print('Цена за метр (Электрификации 26 - Производство):', round(prediction[2] * 12), 'руб.')\n",
    "print('Цена за метр (Электрификации 26 - Торговля):', round(prediction[3] * 12), 'руб.')\n",
    "print('Цена за метр (Электрификации 26 - Свободное):', round(prediction[4] * 12), 'руб.')"
   ]
  },
  {
   "cell_type": "code",
   "execution_count": null,
   "metadata": {},
   "outputs": [],
   "source": []
  }
 ],
 "metadata": {
  "kernelspec": {
   "display_name": "Python 3",
   "language": "python",
   "name": "python3"
  },
  "language_info": {
   "codemirror_mode": {
    "name": "ipython",
    "version": 3
   },
   "file_extension": ".py",
   "mimetype": "text/x-python",
   "name": "python",
   "nbconvert_exporter": "python",
   "pygments_lexer": "ipython3",
   "version": "3.7.4"
  }
 },
 "nbformat": 4,
 "nbformat_minor": 2
}
